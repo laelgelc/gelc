{
 "cells": [
  {
   "cell_type": "markdown",
   "id": "621dd1b6-e72e-4ac1-8e40-9fd944067638",
   "metadata": {},
   "source": [
    "<center>\n",
    "<img src=\"https://laelgelcpublic.s3.sa-east-1.amazonaws.com/lael_50_years_narrow_white.png.no_years.400px_96dpi.png\" width=\"300\" alt=\"LAEL 50 years logo\">\n",
    "<h3>APPLIED LINGUISTICS GRADUATE PROGRAMME (LAEL)</h3>\n",
    "</center>\n",
    "<hr>"
   ]
  },
  {
   "cell_type": "markdown",
   "id": "24dcdf9b-8783-4125-90a9-15d8baa0738f",
   "metadata": {},
   "source": [
    "# Creating a list of S3 filenames"
   ]
  },
  {
   "cell_type": "markdown",
   "id": "91ef20e5-2367-4ad9-9ed1-566bccd72169",
   "metadata": {},
   "source": [
    "- 'files1.csv' is a list of the files actually downloaded\n",
    "  - aws s3 ls s3://laelgelctweets/ --human-readable --summarize > files1.txt\n",
    "  - aws s3 cp files1.txt s3://gelc/\n",
    "  - Formatting 'file1.txt' into 'file1.csv' via VS Code by replacing regex \\s+ by ','"
   ]
  },
  {
   "cell_type": "markdown",
   "id": "a776bda0-cc08-4b02-9702-713e7590c78d",
   "metadata": {},
   "source": [
    "## Importing the required libraries"
   ]
  },
  {
   "cell_type": "code",
   "execution_count": 2,
   "id": "d38466fe-1742-498d-a32b-3d3109a35da7",
   "metadata": {},
   "outputs": [],
   "source": [
    "import pandas as pd"
   ]
  },
  {
   "cell_type": "markdown",
   "id": "e7217b69-5020-4674-8521-7f399fbb79ed",
   "metadata": {},
   "source": [
    "## Processing 'file1.csv'"
   ]
  },
  {
   "cell_type": "code",
   "execution_count": 4,
   "id": "b6982b0f-bdbd-4e51-ba2a-314d8147e71d",
   "metadata": {},
   "outputs": [
    {
     "data": {
      "text/html": [
       "<div>\n",
       "<style scoped>\n",
       "    .dataframe tbody tr th:only-of-type {\n",
       "        vertical-align: middle;\n",
       "    }\n",
       "\n",
       "    .dataframe tbody tr th {\n",
       "        vertical-align: top;\n",
       "    }\n",
       "\n",
       "    .dataframe thead th {\n",
       "        text-align: right;\n",
       "    }\n",
       "</style>\n",
       "<table border=\"1\" class=\"dataframe\">\n",
       "  <thead>\n",
       "    <tr style=\"text-align: right;\">\n",
       "      <th></th>\n",
       "      <th>filename-destination</th>\n",
       "    </tr>\n",
       "  </thead>\n",
       "  <tbody>\n",
       "    <tr>\n",
       "      <th>0</th>\n",
       "      <td>archiveteam-twitter-stream-2018-03.tar</td>\n",
       "    </tr>\n",
       "    <tr>\n",
       "      <th>1</th>\n",
       "      <td>twitter-json-scrape-2011-09.zip</td>\n",
       "    </tr>\n",
       "    <tr>\n",
       "      <th>2</th>\n",
       "      <td>twitter-json-scrape-2011-10.zip</td>\n",
       "    </tr>\n",
       "    <tr>\n",
       "      <th>3</th>\n",
       "      <td>twitter-json-scrape-2011-11.zip</td>\n",
       "    </tr>\n",
       "    <tr>\n",
       "      <th>4</th>\n",
       "      <td>twitter-json-scrape-2011-12.zip</td>\n",
       "    </tr>\n",
       "    <tr>\n",
       "      <th>...</th>\n",
       "      <td>...</td>\n",
       "    </tr>\n",
       "    <tr>\n",
       "      <th>413</th>\n",
       "      <td>twitter_stream_2019_12_27.tar</td>\n",
       "    </tr>\n",
       "    <tr>\n",
       "      <th>414</th>\n",
       "      <td>twitter_stream_2019_12_28.tar</td>\n",
       "    </tr>\n",
       "    <tr>\n",
       "      <th>415</th>\n",
       "      <td>twitter_stream_2019_12_29.tar</td>\n",
       "    </tr>\n",
       "    <tr>\n",
       "      <th>416</th>\n",
       "      <td>twitter_stream_2019_12_30.tar</td>\n",
       "    </tr>\n",
       "    <tr>\n",
       "      <th>417</th>\n",
       "      <td>twitter_stream_2019_12_31.tar</td>\n",
       "    </tr>\n",
       "  </tbody>\n",
       "</table>\n",
       "<p>418 rows × 1 columns</p>\n",
       "</div>"
      ],
      "text/plain": [
       "                       filename-destination\n",
       "0    archiveteam-twitter-stream-2018-03.tar\n",
       "1           twitter-json-scrape-2011-09.zip\n",
       "2           twitter-json-scrape-2011-10.zip\n",
       "3           twitter-json-scrape-2011-11.zip\n",
       "4           twitter-json-scrape-2011-12.zip\n",
       "..                                      ...\n",
       "413           twitter_stream_2019_12_27.tar\n",
       "414           twitter_stream_2019_12_28.tar\n",
       "415           twitter_stream_2019_12_29.tar\n",
       "416           twitter_stream_2019_12_30.tar\n",
       "417           twitter_stream_2019_12_31.tar\n",
       "\n",
       "[418 rows x 1 columns]"
      ]
     },
     "execution_count": 4,
     "metadata": {},
     "output_type": "execute_result"
    }
   ],
   "source": [
    "df_files1 = pd.read_csv('files1.csv', header=None)\n",
    "\n",
    "df_files1.drop(df_files1.columns[[0, 1, 2, 3]], axis=1, inplace=True)\n",
    "\n",
    "df_files1.columns = pd.RangeIndex(df_files1.columns.size)\n",
    "\n",
    "df_files1.sort_values(by=0, ascending=True, inplace=True)\n",
    "\n",
    "df_files1.reset_index(drop=True, inplace=True)\n",
    "\n",
    "df_files1.columns = ['filename-destination']\n",
    "\n",
    "df_files1['filename-destination'].to_csv('files1-key.csv', index=False)\n",
    "\n",
    "df_files1"
   ]
  },
  {
   "cell_type": "code",
   "execution_count": null,
   "id": "070ba69c-eadd-429e-8707-13e3b4af99dc",
   "metadata": {},
   "outputs": [],
   "source": []
  }
 ],
 "metadata": {
  "kernelspec": {
   "display_name": "anaconda-panel-2023.05-py310",
   "language": "python",
   "name": "conda-env-anaconda-panel-2023.05-py310-py"
  },
  "language_info": {
   "codemirror_mode": {
    "name": "ipython",
    "version": 3
   },
   "file_extension": ".py",
   "mimetype": "text/x-python",
   "name": "python",
   "nbconvert_exporter": "python",
   "pygments_lexer": "ipython3",
   "version": "3.11.5"
  }
 },
 "nbformat": 4,
 "nbformat_minor": 5
}
